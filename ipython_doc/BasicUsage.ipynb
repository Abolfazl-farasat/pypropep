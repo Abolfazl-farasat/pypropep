{
 "cells": [
  {
   "cell_type": "code",
   "execution_count": 1,
   "metadata": {
    "collapsed": false
   },
   "outputs": [
    {
     "name": "stdout",
     "output_type": "stream",
     "text": [
      "Loaded 1921 thermo species\n",
      "Loaded 1030 propellants\n"
     ]
    }
   ],
   "source": [
    "import pypropep as ppp\n",
    "ppp.init()"
   ]
  },
  {
   "cell_type": "code",
   "execution_count": 2,
   "metadata": {
    "collapsed": false
   },
   "outputs": [
    {
     "name": "stdout",
     "output_type": "stream",
     "text": [
      "['1,1,1-TRINITRO-2-HYDROXYBUTYRI C ACID', '1,1,1-TRINTRO-4,4-BIS(DIFLUORO AMION)PENTANE', '1,1,1TRINITRO-2-HYDROXYBUTANOL', '1,1-DIMETHYL HYDRAZINE NITRATE', '1,2,4-BUTANETRIOL TRINITRATE']\n"
     ]
    }
   ],
   "source": [
    "print sorted(ppp.PROPELLANTS.keys())[0:5]"
   ]
  },
  {
   "cell_type": "code",
   "execution_count": 3,
   "metadata": {
    "collapsed": false
   },
   "outputs": [
    {
     "name": "stdout",
     "output_type": "stream",
     "text": [
      "cpropep composition:\n",
      "\tOXYGEN (GAS) - 1.000 mol\n",
      "\tMETHANE - 1.000 mol\n",
      "\n"
     ]
    }
   ],
   "source": [
    "e = ppp.Equillibrium()\n",
    "o2 = ppp.PROPELLANTS['OXYGEN (GAS)']\n",
    "ch4 = ppp.PROPELLANTS['METHANE']\n",
    "e.add_propellants([(o2, 1.), (ch4, 1.)])\n",
    "print e"
   ]
  },
  {
   "cell_type": "code",
   "execution_count": null,
   "metadata": {
    "collapsed": true
   },
   "outputs": [],
   "source": []
  }
 ],
 "metadata": {
  "kernelspec": {
   "display_name": "Python [default]",
   "language": "python",
   "name": "python2"
  },
  "language_info": {
   "codemirror_mode": {
    "name": "ipython",
    "version": 2
   },
   "file_extension": ".py",
   "mimetype": "text/x-python",
   "name": "python",
   "nbconvert_exporter": "python",
   "pygments_lexer": "ipython2",
   "version": "2.7.13"
  }
 },
 "nbformat": 4,
 "nbformat_minor": 2
}
